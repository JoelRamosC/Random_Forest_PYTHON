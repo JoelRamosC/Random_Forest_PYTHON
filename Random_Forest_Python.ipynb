{
  "nbformat": 4,
  "nbformat_minor": 0,
  "metadata": {
    "colab": {
      "name": "Random_Forest_Python.ipynb",
      "provenance": [],
      "authorship_tag": "ABX9TyOqSLDY4Wh3RPCIzk0GbrBK",
      "include_colab_link": true
    },
    "kernelspec": {
      "name": "python3",
      "display_name": "Python 3"
    },
    "language_info": {
      "name": "python"
    }
  },
  "cells": [
    {
      "cell_type": "markdown",
      "metadata": {
        "id": "view-in-github",
        "colab_type": "text"
      },
      "source": [
        "<a href=\"https://colab.research.google.com/github/JoelRamosC/Random_Forest_PYTHON/blob/main/Random_Forest_Python.ipynb\" target=\"_parent\"><img src=\"https://colab.research.google.com/assets/colab-badge.svg\" alt=\"Open In Colab\"/></a>"
      ]
    },
    {
      "cell_type": "markdown",
      "source": [
        "# Ramdom Forest"
      ],
      "metadata": {
        "id": "ka4nl-purcNS"
      }
    },
    {
      "cell_type": "markdown",
      "source": [
        "Bibliotas e Carga de Dados"
      ],
      "metadata": {
        "id": "JmoaqFB6rsP9"
      }
    },
    {
      "cell_type": "code",
      "source": [
        "#Carga do conjunto de dados\n",
        "from sklearn.model_selection import train_test_split\n",
        "from sklearn.datasets import make_moons"
      ],
      "metadata": {
        "id": "a6NdRXUvrjKr"
      },
      "execution_count": 1,
      "outputs": []
    },
    {
      "cell_type": "code",
      "source": [
        "X, y = make_moons(n_samples=500, noise=0.30, random_state=42)\n",
        "X_train, X_test, y_train, y_test = train_test_split(X, y, random_state=42)\n",
        "\n",
        "\n",
        "import matplotlib.pyplot as plt\n",
        "plt.scatter(X[:,0], X[:,1])\n",
        "plt.show()"
      ],
      "metadata": {
        "colab": {
          "base_uri": "https://localhost:8080/",
          "height": 265
        },
        "id": "GJpKz0FRrvt9",
        "outputId": "7f1edb29-6d4b-4768-b65c-f03abb267fb0"
      },
      "execution_count": 2,
      "outputs": [
        {
          "output_type": "display_data",
          "data": {
            "image/png": "[encoded data removed]",
            "text/plain": [
              "<Figure size 432x288 with 1 Axes>"
            ]
          },
          "metadata": {
            "needs_background": "light"
          }
        }
      ]
    },
    {
      "cell_type": "code",
      "source": [
        "#Criação do objeto com o algoritmo RandomForestClassifier\n",
        "from sklearn.ensemble import RandomForestClassifier\n",
        "\n",
        "rnd_clf = RandomForestClassifier(n_estimators=500,\n",
        "                                 max_leaf_nodes=16,\n",
        "                                 n_jobs=-1)"
      ],
      "metadata": {
        "id": "Khtc8yUMrzHI"
      },
      "execution_count": 3,
      "outputs": []
    },
    {
      "cell_type": "code",
      "source": [
        "#Criação do modelo\n",
        "from sklearn.ensemble import BaggingClassifier\n",
        "from sklearn.tree import DecisionTreeClassifier\n",
        "\n",
        "bag_clf = BaggingClassifier(\n",
        "    DecisionTreeClassifier(splitter='random', max_leaf_nodes=16),\n",
        "    n_estimators=500,\n",
        "    max_samples=1.0,\n",
        "    bootstrap=True,\n",
        "    random_state=42)"
      ],
      "metadata": {
        "id": "YhIeo05rr2ve"
      },
      "execution_count": 4,
      "outputs": []
    },
    {
      "cell_type": "markdown",
      "source": [
        "2 Treinamento, Aplicação e Avaliação do Modelo\n"
      ],
      "metadata": {
        "id": "bdaBGj3Mr6bo"
      }
    },
    {
      "cell_type": "code",
      "source": [
        "#2.1 Treinamento e realização de predições\n",
        "\n",
        "#Treinamento do modelo\n",
        "rnd_clf.fit(X_train, y_train)\n",
        "\n",
        "#Predições\n",
        "y_pred_rf = rnd_clf.predict(X_test)\n",
        "\n",
        "#Conferência dos resultados\n",
        "y_pred_rf\n",
        "\n",
        "from sklearn.metrics import confusion_matrix\n",
        "cm = confusion_matrix(y_test, y_pred_rf)"
      ],
      "metadata": {
        "id": "29DHTcH_r-cQ"
      },
      "execution_count": 5,
      "outputs": []
    },
    {
      "cell_type": "code",
      "source": [
        "#2.2 Avaliação dos resultados do modelo treinado\n",
        "#Geração do relatório de avaliação da classificação\n",
        "from sklearn.metrics import classification_report\n",
        "print(classification_report(y_test, y_pred_rf))\n",
        "\n",
        "bag_clf.fit(X_train, y_train)\n",
        "\n",
        "y_pred_bag = bag_clf.predict(X_test)\n",
        "print(classification_report(y_test, y_pred_bag))\n"
      ],
      "metadata": {
        "colab": {
          "base_uri": "https://localhost:8080/"
        },
        "id": "l5BEw64VsCPG",
        "outputId": "df5cd63f-6e59-498e-c753-b6b3c022b4f3"
      },
      "execution_count": 7,
      "outputs": [
        {
          "output_type": "stream",
          "name": "stdout",
          "text": [
            "              precision    recall  f1-score   support\n",
            "\n",
            "           0       0.87      0.95      0.91        61\n",
            "           1       0.95      0.86      0.90        64\n",
            "\n",
            "    accuracy                           0.90       125\n",
            "   macro avg       0.91      0.91      0.90       125\n",
            "weighted avg       0.91      0.90      0.90       125\n",
            "\n",
            "              precision    recall  f1-score   support\n",
            "\n",
            "           0       0.88      0.97      0.92        61\n",
            "           1       0.97      0.88      0.92        64\n",
            "\n",
            "    accuracy                           0.92       125\n",
            "   macro avg       0.92      0.92      0.92       125\n",
            "weighted avg       0.92      0.92      0.92       125\n",
            "\n"
          ]
        }
      ]
    },
    {
      "cell_type": "code",
      "source": [
        "#3 Avaliação de importância de características\n",
        "# É possível usar uma random forest para avaliar o \n",
        "# peso das características. \n",
        "# O código abaixo realiza esta tarefa\n",
        "\n",
        "#Carga dos dados de exemplo\n",
        "from sklearn.datasets import load_iris\n",
        "iris = load_iris()\n",
        "#Criação e treinamento do modelo\n",
        "rnd_clf = RandomForestClassifier(n_estimators=500, n_jobs=-1)\n",
        "rnd_clf.fit(iris['data'], iris['target'])\n",
        "\n",
        "for name, score in zip(iris['feature_names'], rnd_clf.feature_importances_):\n",
        "  print(name, score)\n",
        "  "
      ],
      "metadata": {
        "colab": {
          "base_uri": "https://localhost:8080/"
        },
        "id": "_hPOuGKzsGHz",
        "outputId": "e2fa6c4e-8866-4951-ac66-4d15b628f94a"
      },
      "execution_count": 6,
      "outputs": [
        {
          "output_type": "stream",
          "name": "stdout",
          "text": [
            "sepal length (cm) 0.09078049244850887\n",
            "sepal width (cm) 0.025479312695594544\n",
            "petal length (cm) 0.4191741347143035\n",
            "petal width (cm) 0.4645660601415932\n"
          ]
        }
      ]
    }
  ]
}